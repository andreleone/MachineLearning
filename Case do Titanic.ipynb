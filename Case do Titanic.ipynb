{
  "cells": [
    {
      "cell_type": "code",
      "execution_count": null,
      "metadata": {
        "id": "7iQ3VcsqgH19"
      },
      "outputs": [],
      "source": [
        "# 0. Carga de bibliotecas\n",
        "import pandas as pd\n",
        "import numpy as np\n",
        "import sklearn.preprocessing as skpp\n",
        "from sklearn.model_selection import train_test_split\n",
        "from sklearn.linear_model import LinearRegression\n",
        "from sklearn.metrics import mean_squared_error\n",
        "from google.colab import files\n",
        "\n",
        "from sklearn import tree"
      ]
    },
    {
      "cell_type": "code",
      "execution_count": null,
      "metadata": {
        "id": "gQQzs199gI07"
      },
      "outputs": [],
      "source": [
        "# 1. Carga de dados\n",
        "dfTit = pd.read_csv('https://raw.githubusercontent.com/diogenesjusto/FIAP/master/Gradua%C3%A7%C3%A3o/dados/dados_arvore_titanic.csv')\n",
        "\n",
        "\n",
        "\n",
        "\n",
        "\n",
        "\n"
      ]
    },
    {
      "cell_type": "code",
      "execution_count": null,
      "metadata": {
        "id": "yPb6h-x3gWpD"
      },
      "outputs": [],
      "source": [
        "# 2. Transformações de variáveis (feature engineering)\n",
        "# Criação de variável Dummy\n",
        "dummy_sex = pd.get_dummies(dfTit['Sex'])\n",
        "dfTit['SexFemale'] = dummy_sex['female']\n",
        "\n",
        "dummy_pclass = pd.get_dummies(dfTit['Pclass'], prefix= \"Classe\")\n",
        "dfTit['Classe_1'] = dummy_pclass['Classe_1']\n",
        "dfTit['Classe_2'] = dummy_pclass['Classe_2']\n",
        "\n",
        "# Preenchimento de nulos para idades\n",
        "ageMed = dfTit['Age'].mean()\n",
        "dfTit['AgeNullTrat'] = dfTit['Age'].fillna(ageMed)"
      ]
    },
    {
      "cell_type": "code",
      "execution_count": null,
      "metadata": {
        "id": "U-aGFaptgUeP"
      },
      "outputs": [],
      "source": [
        "# 3. Separação de treino e teste\n",
        "x_treino, x_teste, y_treino, y_teste = train_test_split(dfTit[['SexFemale','Classe_1', 'Classe_2', 'AgeNullTrat']], dfTit['Survived'], test_size=0.25, random_state=1)\n"
      ]
    },
    {
      "cell_type": "code",
      "execution_count": null,
      "metadata": {
        "id": "T3-taxIlgS3D"
      },
      "outputs": [],
      "source": [
        "# 4. Construir modelo de árvore\n",
        "# modTit = tree.DecisionTreeClassifier(random_state=2, n_estimators=2000)\n",
        "\n",
        "# 4. Construir modelo de árvore\n",
        "modTit = RandomForestClassifier(random_state=2, n_estimators=2000)\n",
        "modTit.fit(x_treino, y_treino)\n",
        "\n"
      ]
    },
    {
      "cell_type": "code",
      "execution_count": null,
      "metadata": {
        "id": "D7oG3u4EgisU"
      },
      "outputs": [],
      "source": [
        "# 5. Previsão em teste\n",
        "y_prev = modTit.predict(x_teste)"
      ]
    },
    {
      "cell_type": "code",
      "execution_count": null,
      "metadata": {
        "colab": {
          "base_uri": "https://localhost:8080/"
        },
        "id": "n_dVg3rcgRId",
        "outputId": "115ef54a-81b6-45d7-b7b1-3b44ecb44301"
      },
      "outputs": [
        {
          "name": "stdout",
          "output_type": "stream",
          "text": [
            "0.7802690582959642\n",
            "0.8194444444444444\n",
            "0.6210526315789474\n"
          ]
        }
      ],
      "source": [
        "# Métricas de erro de classificadores\n",
        "print(accuracy_score(y_teste, y_prev))\n",
        "print(precision_score(y_teste, y_prev))\n",
        "print(recall_score(y_teste, y_prev))"
      ]
    }
  ],
  "metadata": {
    "colab": {
      "provenance": []
    },
    "kernelspec": {
      "display_name": "Python 3",
      "name": "python3"
    },
    "language_info": {
      "name": "python"
    },
    "widgets": {
      "application/vnd.jupyter.widget-state+json": {
        "181b8655deaa41c19fc8bec834a3e5d5": {
          "model_module": "@jupyter-widgets/controls",
          "model_module_version": "1.5.0",
          "model_name": "HTMLModel",
          "state": {
            "_dom_classes": [],
            "_model_module": "@jupyter-widgets/controls",
            "_model_module_version": "1.5.0",
            "_model_name": "HTMLModel",
            "_view_count": null,
            "_view_module": "@jupyter-widgets/controls",
            "_view_module_version": "1.5.0",
            "_view_name": "HTMLView",
            "description": "",
            "description_tooltip": null,
            "layout": "IPY_MODEL_85ae0e6496d64cca9ea2abbda01a812b",
            "placeholder": "​",
            "style": "IPY_MODEL_724c7d83d8424bbd8abee6f8ce0e7daf",
            "value": " 65/65 [00:45&lt;00:00,  2.21it/s]"
          }
        },
        "4a33bb6306f240778bee0342b00bab5c": {
          "model_module": "@jupyter-widgets/base",
          "model_module_version": "1.2.0",
          "model_name": "LayoutModel",
          "state": {
            "_model_module": "@jupyter-widgets/base",
            "_model_module_version": "1.2.0",
            "_model_name": "LayoutModel",
            "_view_count": null,
            "_view_module": "@jupyter-widgets/base",
            "_view_module_version": "1.2.0",
            "_view_name": "LayoutView",
            "align_content": null,
            "align_items": null,
            "align_self": null,
            "border": null,
            "bottom": null,
            "display": null,
            "flex": null,
            "flex_flow": null,
            "grid_area": null,
            "grid_auto_columns": null,
            "grid_auto_flow": null,
            "grid_auto_rows": null,
            "grid_column": null,
            "grid_gap": null,
            "grid_row": null,
            "grid_template_areas": null,
            "grid_template_columns": null,
            "grid_template_rows": null,
            "height": null,
            "justify_content": null,
            "justify_items": null,
            "left": null,
            "margin": null,
            "max_height": null,
            "max_width": null,
            "min_height": null,
            "min_width": null,
            "object_fit": null,
            "object_position": null,
            "order": null,
            "overflow": null,
            "overflow_x": null,
            "overflow_y": null,
            "padding": null,
            "right": null,
            "top": null,
            "visibility": null,
            "width": null
          }
        },
        "4bf5709b44a942d79164c2dcf72e3768": {
          "model_module": "@jupyter-widgets/base",
          "model_module_version": "1.2.0",
          "model_name": "LayoutModel",
          "state": {
            "_model_module": "@jupyter-widgets/base",
            "_model_module_version": "1.2.0",
            "_model_name": "LayoutModel",
            "_view_count": null,
            "_view_module": "@jupyter-widgets/base",
            "_view_module_version": "1.2.0",
            "_view_name": "LayoutView",
            "align_content": null,
            "align_items": null,
            "align_self": null,
            "border": null,
            "bottom": null,
            "display": null,
            "flex": null,
            "flex_flow": null,
            "grid_area": null,
            "grid_auto_columns": null,
            "grid_auto_flow": null,
            "grid_auto_rows": null,
            "grid_column": null,
            "grid_gap": null,
            "grid_row": null,
            "grid_template_areas": null,
            "grid_template_columns": null,
            "grid_template_rows": null,
            "height": null,
            "justify_content": null,
            "justify_items": null,
            "left": null,
            "margin": null,
            "max_height": null,
            "max_width": null,
            "min_height": null,
            "min_width": null,
            "object_fit": null,
            "object_position": null,
            "order": null,
            "overflow": null,
            "overflow_x": null,
            "overflow_y": null,
            "padding": null,
            "right": null,
            "top": null,
            "visibility": "hidden",
            "width": null
          }
        },
        "4c3bf9a24f9842f0aef8066f38f09f2a": {
          "model_module": "@jupyter-widgets/base",
          "model_module_version": "1.2.0",
          "model_name": "LayoutModel",
          "state": {
            "_model_module": "@jupyter-widgets/base",
            "_model_module_version": "1.2.0",
            "_model_name": "LayoutModel",
            "_view_count": null,
            "_view_module": "@jupyter-widgets/base",
            "_view_module_version": "1.2.0",
            "_view_name": "LayoutView",
            "align_content": null,
            "align_items": null,
            "align_self": null,
            "border": null,
            "bottom": null,
            "display": null,
            "flex": null,
            "flex_flow": null,
            "grid_area": null,
            "grid_auto_columns": null,
            "grid_auto_flow": null,
            "grid_auto_rows": null,
            "grid_column": null,
            "grid_gap": null,
            "grid_row": null,
            "grid_template_areas": null,
            "grid_template_columns": null,
            "grid_template_rows": null,
            "height": null,
            "justify_content": null,
            "justify_items": null,
            "left": null,
            "margin": null,
            "max_height": null,
            "max_width": null,
            "min_height": null,
            "min_width": null,
            "object_fit": null,
            "object_position": null,
            "order": null,
            "overflow": null,
            "overflow_x": null,
            "overflow_y": null,
            "padding": null,
            "right": null,
            "top": null,
            "visibility": null,
            "width": null
          }
        },
        "51e7567ceaba4955bea8752ddd37fe48": {
          "model_module": "@jupyter-widgets/controls",
          "model_module_version": "1.5.0",
          "model_name": "ToggleButtonsModel",
          "state": {
            "_dom_classes": [],
            "_model_module": "@jupyter-widgets/controls",
            "_model_module_version": "1.5.0",
            "_model_name": "ToggleButtonsModel",
            "_options_labels": [
              "Pipeline Plot",
              "Hyperparameters",
              "AUC",
              "Confusion Matrix",
              "Threshold",
              "Precision Recall",
              "Prediction Error",
              "Class Report",
              "Feature Selection",
              "Learning Curve",
              "Manifold Learning",
              "Calibration Curve",
              "Validation Curve",
              "Dimensions",
              "Feature Importance",
              "Feature Importance (All)",
              "Decision Boundary",
              "Lift Chart",
              "Gain Chart",
              "Decision Tree",
              "KS Statistic Plot"
            ],
            "_view_count": null,
            "_view_module": "@jupyter-widgets/controls",
            "_view_module_version": "1.5.0",
            "_view_name": "ToggleButtonsView",
            "button_style": "",
            "description": "Plot Type:",
            "description_tooltip": null,
            "disabled": false,
            "icons": [
              ""
            ],
            "index": 9,
            "layout": "IPY_MODEL_f2dad3fc5bea42eeae6de0f2b1a82f09",
            "style": "IPY_MODEL_daec9d24d2784f75824d38060c55afe3",
            "tooltips": []
          }
        },
        "700f7ca0c9a94c64b532148668455ec8": {
          "model_module": "@jupyter-widgets/output",
          "model_module_version": "1.0.0",
          "model_name": "OutputModel",
          "state": {
            "_dom_classes": [],
            "_model_module": "@jupyter-widgets/output",
            "_model_module_version": "1.0.0",
            "_model_name": "OutputModel",
            "_view_count": null,
            "_view_module": "@jupyter-widgets/output",
            "_view_module_version": "1.0.0",
            "_view_name": "OutputView",
            "layout": "IPY_MODEL_96582f7862bb4860b510fec3ec87449d",
            "msg_id": "",
            "outputs": [
              {
                "data": {
                  "image/png": "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\n",
                  "text/plain": "<Figure size 800x550 with 1 Axes>"
                },
                "metadata": {},
                "output_type": "display_data"
              }
            ]
          }
        },
        "724c7d83d8424bbd8abee6f8ce0e7daf": {
          "model_module": "@jupyter-widgets/controls",
          "model_module_version": "1.5.0",
          "model_name": "DescriptionStyleModel",
          "state": {
            "_model_module": "@jupyter-widgets/controls",
            "_model_module_version": "1.5.0",
            "_model_name": "DescriptionStyleModel",
            "_view_count": null,
            "_view_module": "@jupyter-widgets/base",
            "_view_module_version": "1.2.0",
            "_view_name": "StyleView",
            "description_width": ""
          }
        },
        "7c7d2e8f2d454738ad1e5cd81598da05": {
          "model_module": "@jupyter-widgets/controls",
          "model_module_version": "1.5.0",
          "model_name": "ProgressStyleModel",
          "state": {
            "_model_module": "@jupyter-widgets/controls",
            "_model_module_version": "1.5.0",
            "_model_name": "ProgressStyleModel",
            "_view_count": null,
            "_view_module": "@jupyter-widgets/base",
            "_view_module_version": "1.2.0",
            "_view_name": "StyleView",
            "bar_color": null,
            "description_width": ""
          }
        },
        "85ae0e6496d64cca9ea2abbda01a812b": {
          "model_module": "@jupyter-widgets/base",
          "model_module_version": "1.2.0",
          "model_name": "LayoutModel",
          "state": {
            "_model_module": "@jupyter-widgets/base",
            "_model_module_version": "1.2.0",
            "_model_name": "LayoutModel",
            "_view_count": null,
            "_view_module": "@jupyter-widgets/base",
            "_view_module_version": "1.2.0",
            "_view_name": "LayoutView",
            "align_content": null,
            "align_items": null,
            "align_self": null,
            "border": null,
            "bottom": null,
            "display": null,
            "flex": null,
            "flex_flow": null,
            "grid_area": null,
            "grid_auto_columns": null,
            "grid_auto_flow": null,
            "grid_auto_rows": null,
            "grid_column": null,
            "grid_gap": null,
            "grid_row": null,
            "grid_template_areas": null,
            "grid_template_columns": null,
            "grid_template_rows": null,
            "height": null,
            "justify_content": null,
            "justify_items": null,
            "left": null,
            "margin": null,
            "max_height": null,
            "max_width": null,
            "min_height": null,
            "min_width": null,
            "object_fit": null,
            "object_position": null,
            "order": null,
            "overflow": null,
            "overflow_x": null,
            "overflow_y": null,
            "padding": null,
            "right": null,
            "top": null,
            "visibility": null,
            "width": null
          }
        },
        "96582f7862bb4860b510fec3ec87449d": {
          "model_module": "@jupyter-widgets/base",
          "model_module_version": "1.2.0",
          "model_name": "LayoutModel",
          "state": {
            "_model_module": "@jupyter-widgets/base",
            "_model_module_version": "1.2.0",
            "_model_name": "LayoutModel",
            "_view_count": null,
            "_view_module": "@jupyter-widgets/base",
            "_view_module_version": "1.2.0",
            "_view_name": "LayoutView",
            "align_content": null,
            "align_items": null,
            "align_self": null,
            "border": null,
            "bottom": null,
            "display": null,
            "flex": null,
            "flex_flow": null,
            "grid_area": null,
            "grid_auto_columns": null,
            "grid_auto_flow": null,
            "grid_auto_rows": null,
            "grid_column": null,
            "grid_gap": null,
            "grid_row": null,
            "grid_template_areas": null,
            "grid_template_columns": null,
            "grid_template_rows": null,
            "height": null,
            "justify_content": null,
            "justify_items": null,
            "left": null,
            "margin": null,
            "max_height": null,
            "max_width": null,
            "min_height": null,
            "min_width": null,
            "object_fit": null,
            "object_position": null,
            "order": null,
            "overflow": null,
            "overflow_x": null,
            "overflow_y": null,
            "padding": null,
            "right": null,
            "top": null,
            "visibility": null,
            "width": null
          }
        },
        "97ea60c290eb4229a591d57a436cf303": {
          "model_module": "@jupyter-widgets/controls",
          "model_module_version": "1.5.0",
          "model_name": "FloatProgressModel",
          "state": {
            "_dom_classes": [],
            "_model_module": "@jupyter-widgets/controls",
            "_model_module_version": "1.5.0",
            "_model_name": "FloatProgressModel",
            "_view_count": null,
            "_view_module": "@jupyter-widgets/controls",
            "_view_module_version": "1.5.0",
            "_view_name": "ProgressView",
            "bar_style": "",
            "description": "",
            "description_tooltip": null,
            "layout": "IPY_MODEL_4c3bf9a24f9842f0aef8066f38f09f2a",
            "max": 65,
            "min": 0,
            "orientation": "horizontal",
            "style": "IPY_MODEL_7c7d2e8f2d454738ad1e5cd81598da05",
            "value": 65
          }
        },
        "9a74d8a8fb524e0ebc8522baca1d90ce": {
          "model_module": "@jupyter-widgets/controls",
          "model_module_version": "1.5.0",
          "model_name": "HTMLModel",
          "state": {
            "_dom_classes": [],
            "_model_module": "@jupyter-widgets/controls",
            "_model_module_version": "1.5.0",
            "_model_name": "HTMLModel",
            "_view_count": null,
            "_view_module": "@jupyter-widgets/controls",
            "_view_module_version": "1.5.0",
            "_view_name": "HTMLView",
            "description": "",
            "description_tooltip": null,
            "layout": "IPY_MODEL_4a33bb6306f240778bee0342b00bab5c",
            "placeholder": "​",
            "style": "IPY_MODEL_d7d970d943464d1f8ea4c69bfced5787",
            "value": "Processing: 100%"
          }
        },
        "bf1e3b4d18c84a80ae933d1038f38baa": {
          "model_module": "@jupyter-widgets/base",
          "model_module_version": "1.2.0",
          "model_name": "LayoutModel",
          "state": {
            "_model_module": "@jupyter-widgets/base",
            "_model_module_version": "1.2.0",
            "_model_name": "LayoutModel",
            "_view_count": null,
            "_view_module": "@jupyter-widgets/base",
            "_view_module_version": "1.2.0",
            "_view_name": "LayoutView",
            "align_content": null,
            "align_items": null,
            "align_self": null,
            "border": null,
            "bottom": null,
            "display": null,
            "flex": null,
            "flex_flow": null,
            "grid_area": null,
            "grid_auto_columns": null,
            "grid_auto_flow": null,
            "grid_auto_rows": null,
            "grid_column": null,
            "grid_gap": null,
            "grid_row": null,
            "grid_template_areas": null,
            "grid_template_columns": null,
            "grid_template_rows": null,
            "height": null,
            "justify_content": null,
            "justify_items": null,
            "left": null,
            "margin": null,
            "max_height": null,
            "max_width": null,
            "min_height": null,
            "min_width": null,
            "object_fit": null,
            "object_position": null,
            "order": null,
            "overflow": null,
            "overflow_x": null,
            "overflow_y": null,
            "padding": null,
            "right": null,
            "top": null,
            "visibility": null,
            "width": null
          }
        },
        "d06c1fd101ef4e2581e297ecc0571104": {
          "model_module": "@jupyter-widgets/controls",
          "model_module_version": "1.5.0",
          "model_name": "HBoxModel",
          "state": {
            "_dom_classes": [],
            "_model_module": "@jupyter-widgets/controls",
            "_model_module_version": "1.5.0",
            "_model_name": "HBoxModel",
            "_view_count": null,
            "_view_module": "@jupyter-widgets/controls",
            "_view_module_version": "1.5.0",
            "_view_name": "HBoxView",
            "box_style": "",
            "children": [
              "IPY_MODEL_9a74d8a8fb524e0ebc8522baca1d90ce",
              "IPY_MODEL_97ea60c290eb4229a591d57a436cf303",
              "IPY_MODEL_181b8655deaa41c19fc8bec834a3e5d5"
            ],
            "layout": "IPY_MODEL_4bf5709b44a942d79164c2dcf72e3768"
          }
        },
        "d7d970d943464d1f8ea4c69bfced5787": {
          "model_module": "@jupyter-widgets/controls",
          "model_module_version": "1.5.0",
          "model_name": "DescriptionStyleModel",
          "state": {
            "_model_module": "@jupyter-widgets/controls",
            "_model_module_version": "1.5.0",
            "_model_name": "DescriptionStyleModel",
            "_view_count": null,
            "_view_module": "@jupyter-widgets/base",
            "_view_module_version": "1.2.0",
            "_view_name": "StyleView",
            "description_width": ""
          }
        },
        "d7f1b210c2d549bb854ab6504f21f63d": {
          "model_module": "@jupyter-widgets/controls",
          "model_module_version": "1.5.0",
          "model_name": "VBoxModel",
          "state": {
            "_dom_classes": [
              "widget-interact"
            ],
            "_model_module": "@jupyter-widgets/controls",
            "_model_module_version": "1.5.0",
            "_model_name": "VBoxModel",
            "_view_count": null,
            "_view_module": "@jupyter-widgets/controls",
            "_view_module_version": "1.5.0",
            "_view_name": "VBoxView",
            "box_style": "",
            "children": [
              "IPY_MODEL_51e7567ceaba4955bea8752ddd37fe48",
              "IPY_MODEL_700f7ca0c9a94c64b532148668455ec8"
            ],
            "layout": "IPY_MODEL_bf1e3b4d18c84a80ae933d1038f38baa"
          }
        },
        "daec9d24d2784f75824d38060c55afe3": {
          "model_module": "@jupyter-widgets/controls",
          "model_module_version": "1.5.0",
          "model_name": "ToggleButtonsStyleModel",
          "state": {
            "_model_module": "@jupyter-widgets/controls",
            "_model_module_version": "1.5.0",
            "_model_name": "ToggleButtonsStyleModel",
            "_view_count": null,
            "_view_module": "@jupyter-widgets/base",
            "_view_module_version": "1.2.0",
            "_view_name": "StyleView",
            "button_width": "",
            "description_width": "",
            "font_weight": ""
          }
        },
        "f2dad3fc5bea42eeae6de0f2b1a82f09": {
          "model_module": "@jupyter-widgets/base",
          "model_module_version": "1.2.0",
          "model_name": "LayoutModel",
          "state": {
            "_model_module": "@jupyter-widgets/base",
            "_model_module_version": "1.2.0",
            "_model_name": "LayoutModel",
            "_view_count": null,
            "_view_module": "@jupyter-widgets/base",
            "_view_module_version": "1.2.0",
            "_view_name": "LayoutView",
            "align_content": null,
            "align_items": null,
            "align_self": null,
            "border": null,
            "bottom": null,
            "display": null,
            "flex": null,
            "flex_flow": null,
            "grid_area": null,
            "grid_auto_columns": null,
            "grid_auto_flow": null,
            "grid_auto_rows": null,
            "grid_column": null,
            "grid_gap": null,
            "grid_row": null,
            "grid_template_areas": null,
            "grid_template_columns": null,
            "grid_template_rows": null,
            "height": null,
            "justify_content": null,
            "justify_items": null,
            "left": null,
            "margin": null,
            "max_height": null,
            "max_width": null,
            "min_height": null,
            "min_width": null,
            "object_fit": null,
            "object_position": null,
            "order": null,
            "overflow": null,
            "overflow_x": null,
            "overflow_y": null,
            "padding": null,
            "right": null,
            "top": null,
            "visibility": null,
            "width": null
          }
        }
      }
    }
  },
  "nbformat": 4,
  "nbformat_minor": 0
}
